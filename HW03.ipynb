{
 "cells": [
  {
   "cell_type": "code",
   "execution_count": 82,
   "metadata": {},
   "outputs": [],
   "source": [
    "import numpy as np\n",
    "import pandas as pd"
   ]
  },
  {
   "cell_type": "markdown",
   "metadata": {},
   "source": [
    "### Задание 1.\n",
    "Даны значения зарплат из выборки выпускников: 100, 80, 75, 77, 89, 33, 45, 25, 65, 17, 30, 24, 57, 55, 70, 75, 65, 84, 90, 150. Посчитать (желательно без использования статистических методов наподобие std, var, mean) среднее арифметическое, среднее квадратичное отклонение, смещенную и несмещенную оценки дисперсий для данной выборки."
   ]
  },
  {
   "cell_type": "code",
   "execution_count": 83,
   "metadata": {},
   "outputs": [],
   "source": [
    "salary = [100, 80, 75, 77, 89, 33, 45, 25, 65, 17, 30, 24, 57, 55, 70, 75, 65, 84, 90, 150]\n",
    "salary.sort()\n",
    "df = pd.DataFrame({'salary':salary})"
   ]
  },
  {
   "cell_type": "code",
   "execution_count": 84,
   "metadata": {},
   "outputs": [
    {
     "data": {
      "text/plain": [
       "65.3"
      ]
     },
     "execution_count": 84,
     "metadata": {},
     "output_type": "execute_result"
    }
   ],
   "source": [
    "# Среднее арифметическое\n",
    "df['salary'].sum() / df['salary'].count()"
   ]
  },
  {
   "cell_type": "markdown",
   "metadata": {},
   "source": [
    "Среднее квадратичное отклонение считаем по формуле:\n",
    "$$\\sigma = \\sqrt{\\frac{\\sum\\limits_{i=1}^{n} (x_i - \\overline{x})^2}{n}}$$"
   ]
  },
  {
   "cell_type": "code",
   "execution_count": 85,
   "metadata": {},
   "outputs": [
    {
     "data": {
      "text/plain": [
       "30.823854398825592"
      ]
     },
     "execution_count": 85,
     "metadata": {},
     "output_type": "execute_result"
    }
   ],
   "source": [
    "salary_std = np.sqrt(((df['salary'] - df['salary'].mean())**2).sum() / df['salary'].count())\n",
    "salary_std"
   ]
  },
  {
   "cell_type": "markdown",
   "metadata": {},
   "source": [
    "смещенную дисперсию считаем по такой формуле:\n",
    "$$\\sigma^2 = \\frac{\\sum\\limits_{i=1}^{n} (x_i - \\overline{x})^2}{n}$$"
   ]
  },
  {
   "cell_type": "code",
   "execution_count": 86,
   "metadata": {},
   "outputs": [
    {
     "data": {
      "text/plain": [
       "950.1099999999999"
      ]
     },
     "execution_count": 86,
     "metadata": {},
     "output_type": "execute_result"
    }
   ],
   "source": [
    "salary_variance = ((df['salary'] - df['salary'].mean())**2).sum() / df['salary'].count()\n",
    "salary_variance"
   ]
  },
  {
   "cell_type": "markdown",
   "metadata": {},
   "source": [
    "Несмещенную дисперсию считаем по такой формуле:\n",
    "$$\\sigma^2 = \\frac{\\sum\\limits_{i=1}^{n} (x_i - \\overline{x})^2}{n-1}$$"
   ]
  },
  {
   "cell_type": "code",
   "execution_count": 87,
   "metadata": {},
   "outputs": [
    {
     "data": {
      "text/plain": [
       "1000.115789473684"
      ]
     },
     "execution_count": 87,
     "metadata": {},
     "output_type": "execute_result"
    }
   ],
   "source": [
    "salary_variance = ((df['salary'] - df['salary'].mean())**2).sum() / (df['salary'].count()-1)\n",
    "salary_variance"
   ]
  },
  {
   "cell_type": "code",
   "execution_count": 88,
   "metadata": {},
   "outputs": [
    {
     "data": {
      "text/plain": [
       "1000.1157894736842"
      ]
     },
     "execution_count": 88,
     "metadata": {},
     "output_type": "execute_result"
    }
   ],
   "source": [
    "df['salary'].var(ddof=1)"
   ]
  },
  {
   "cell_type": "markdown",
   "metadata": {},
   "source": [
    "### Задание 2.\n",
    "В первом ящике находится 8 мячей, из которых 5 - белые. Во втором ящике - 12 мячей, из которых 5 белых. Из первого ящика вытаскивают случайным образом два мяча, из второго - 4. Какова вероятность того, что 3 мяча белые?"
   ]
  },
  {
   "cell_type": "code",
   "execution_count": 89,
   "metadata": {},
   "outputs": [],
   "source": [
    "# Функция для выполнения задания\n",
    "from math import factorial\n",
    "def combinations(n, k):\n",
    "    return int(factorial(n) / (factorial(k) * factorial(n - k)))"
   ]
  },
  {
   "cell_type": "code",
   "execution_count": 90,
   "metadata": {},
   "outputs": [
    {
     "data": {
      "text/plain": [
       "0.3686868686868687"
      ]
     },
     "execution_count": 90,
     "metadata": {},
     "output_type": "execute_result"
    }
   ],
   "source": [
    "# Вероятность, что два белых вытащат из первой корзины и 1 из второй\n",
    "P1 = combinations(5, 2) / combinations(8, 2) * (combinations(5, 1) * combinations(7, 3))/ combinations(12, 4)\n",
    "# Вероятность, что 1 белый вытащат из первой корзины и 2 из второй\n",
    "P2 = (combinations(5, 1) * combinations(3, 1)) / combinations(8, 2) * (combinations(5, 2) * combinations(7, 2)) / combinations(12, 4)\n",
    "# Вероятность, что вытащили 3 белых из второй:\n",
    "P3 = combinations(3, 2) / combinations(8, 2) * (combinations(5, 3) * combinations(7, 1)) / combinations(12, 4)\n",
    "\n",
    "P = P1 + P2 + P3\n",
    "P"
   ]
  },
  {
   "cell_type": "markdown",
   "metadata": {},
   "source": [
    "### Задание 3.\n",
    "На соревновании по биатлону один из трех спортсменов стреляет и попадает в мишень. Вероятность попадания для первого спортсмена равна 0.9, для второго — 0.8, для третьего — 0.6. Найти вероятность того, что выстрел произведен: a). первым спортсменом б). вторым спортсменом в). третьим спортсменом."
   ]
  },
  {
   "cell_type": "code",
   "execution_count": 91,
   "metadata": {},
   "outputs": [],
   "source": [
    "# Вероятность попадания каждого спортсмена\n",
    "PAB1 = 0.9\n",
    "PAB2 = 0.8\n",
    "PAB3 = 0.6\n",
    "\n",
    "# Вероятность выстрела каждым спортсменом\n",
    "PB1 = 1 / 3\n",
    "PB2 = 1 / 3\n",
    "PB3 = 1 / 3"
   ]
  },
  {
   "cell_type": "code",
   "execution_count": 92,
   "metadata": {},
   "outputs": [
    {
     "data": {
      "text/plain": [
       "0.7666666666666666"
      ]
     },
     "execution_count": 92,
     "metadata": {},
     "output_type": "execute_result"
    }
   ],
   "source": [
    "# Находим полную вероятность попадания\n",
    "PA = PB1 * PAB1 + PB2 * PAB2 + PB3 * PAB3\n",
    "PA"
   ]
  },
  {
   "cell_type": "markdown",
   "metadata": {},
   "source": [
    "Далее используем формулу Байеса $$P(B\\:|\\:A) = \\frac{P(B) \\cdot P(A\\:|\\:B)}{P(A)}$$"
   ]
  },
  {
   "cell_type": "code",
   "execution_count": 93,
   "metadata": {},
   "outputs": [
    {
     "data": {
      "text/plain": [
       "0.391304347826087"
      ]
     },
     "execution_count": 93,
     "metadata": {},
     "output_type": "execute_result"
    }
   ],
   "source": [
    "P1 = PB1 * PAB1 / PA\n",
    "P1"
   ]
  },
  {
   "cell_type": "code",
   "execution_count": 94,
   "metadata": {},
   "outputs": [
    {
     "data": {
      "text/plain": [
       "0.3478260869565218"
      ]
     },
     "execution_count": 94,
     "metadata": {},
     "output_type": "execute_result"
    }
   ],
   "source": [
    "P2 = PB2 * PAB2 / PA\n",
    "P2"
   ]
  },
  {
   "cell_type": "code",
   "execution_count": 95,
   "metadata": {},
   "outputs": [
    {
     "data": {
      "text/plain": [
       "0.2608695652173913"
      ]
     },
     "execution_count": 95,
     "metadata": {},
     "output_type": "execute_result"
    }
   ],
   "source": [
    "P3 = PB3 * PAB3 / PA\n",
    "P3"
   ]
  },
  {
   "cell_type": "markdown",
   "metadata": {},
   "source": [
    "### Задание 4.\n",
    "В университет на факультеты A и B поступило равное количество студентов, а на факультет C студентов поступило столько же, сколько на A и B вместе. Вероятность того, что студент факультета A сдаст первую сессию, равна 0.8. Для студента факультета B эта вероятность равна 0.7, а для студента факультета C - 0.9. Студент сдал первую сессию. Какова вероятность, что он учится: a). на факультете A б). на факультете B в). на факультете C?"
   ]
  },
  {
   "cell_type": "code",
   "execution_count": 96,
   "metadata": {},
   "outputs": [],
   "source": [
    "# Для решения используем формулу Байеса.\n",
    "# учитываем, что на факультете С половина всех студентов, поэтому вероятность сдачи по факультетам:\n",
    "PB_A = 1 / 4\n",
    "PB_B = 1 / 4\n",
    "PB_C = 1 / 2\n",
    "# Вероятность сдачи студентом из факультета:\n",
    "PAB_A = 0.8\n",
    "PAB_B = 0.7\n",
    "PAB_C = 0.9"
   ]
  },
  {
   "cell_type": "code",
   "execution_count": 97,
   "metadata": {},
   "outputs": [
    {
     "data": {
      "text/plain": [
       "0.825"
      ]
     },
     "execution_count": 97,
     "metadata": {},
     "output_type": "execute_result"
    }
   ],
   "source": [
    "# Находим полную вероятность сдачи сессии:\n",
    "PA = PB_A * PAB_A + PB_B * PAB_B + PB_C * PAB_C\n",
    "PA"
   ]
  },
  {
   "cell_type": "code",
   "execution_count": 98,
   "metadata": {},
   "outputs": [
    {
     "data": {
      "text/plain": [
       "0.24242424242424246"
      ]
     },
     "execution_count": 98,
     "metadata": {},
     "output_type": "execute_result"
    }
   ],
   "source": [
    "# Факультет A\n",
    "P_A = PB_A * PAB_A / PA\n",
    "P_A"
   ]
  },
  {
   "cell_type": "code",
   "execution_count": 99,
   "metadata": {},
   "outputs": [
    {
     "data": {
      "text/plain": [
       "0.21212121212121213"
      ]
     },
     "execution_count": 99,
     "metadata": {},
     "output_type": "execute_result"
    }
   ],
   "source": [
    "# Факультет В\n",
    "P_B = PB_B * PAB_B / PA\n",
    "P_B"
   ]
  },
  {
   "cell_type": "code",
   "execution_count": 100,
   "metadata": {},
   "outputs": [
    {
     "data": {
      "text/plain": [
       "0.5454545454545455"
      ]
     },
     "execution_count": 100,
     "metadata": {},
     "output_type": "execute_result"
    }
   ],
   "source": [
    "# Факультет С\n",
    "P_C = PB_C * PAB_C / PA\n",
    "P_C"
   ]
  },
  {
   "cell_type": "markdown",
   "metadata": {},
   "source": [
    "### Задание 5.\n",
    "Устройство состоит из трех деталей. Для первой детали вероятность выйти из строя в первый месяц равна 0.1, для второй - 0.2, для третьей - 0.25. Какова вероятность того, что:"
   ]
  },
  {
   "cell_type": "markdown",
   "metadata": {},
   "source": [
    "а) в первый месяц выйдут из строя все детали:"
   ]
  },
  {
   "cell_type": "code",
   "execution_count": 102,
   "metadata": {},
   "outputs": [
    {
     "data": {
      "text/plain": [
       "0.005000000000000001"
      ]
     },
     "execution_count": 102,
     "metadata": {},
     "output_type": "execute_result"
    }
   ],
   "source": [
    "PA1 = 0.1\n",
    "PA2 = 0.2\n",
    "PA3 = 0.25\n",
    "P = PA1 * PA2 * PA3\n",
    "P"
   ]
  },
  {
   "cell_type": "markdown",
   "metadata": {},
   "source": [
    "б) в первый месяц выйдут из строя только две детали:"
   ]
  },
  {
   "cell_type": "code",
   "execution_count": 103,
   "metadata": {},
   "outputs": [
    {
     "data": {
      "text/plain": [
       "0.08000000000000002"
      ]
     },
     "execution_count": 103,
     "metadata": {},
     "output_type": "execute_result"
    }
   ],
   "source": [
    "# Могут быть три варианта - 1 и 2, 2 и 3, 1 и 3\n",
    "P = (PA1 * PA2 * (1 - PA3)) + (PA2 * PA3 * (1 - PA1)) + (PA1 * PA3 * (1 - PA2))\n",
    "P"
   ]
  },
  {
   "cell_type": "markdown",
   "metadata": {},
   "source": [
    "в) в первый месяц выйдет из строя хотя бы одна деталь"
   ]
  },
  {
   "cell_type": "code",
   "execution_count": 104,
   "metadata": {},
   "outputs": [
    {
     "data": {
      "text/plain": [
       "0.45999999999999996"
      ]
     },
     "execution_count": 104,
     "metadata": {},
     "output_type": "execute_result"
    }
   ],
   "source": [
    "# Находим вероятность, что ни одна деталь не выйдет из строя\n",
    "PA = (1 - PA1) * (1 - PA2) * (1 - PA3)\n",
    "P = 1 - PA\n",
    "P"
   ]
  },
  {
   "cell_type": "code",
   "execution_count": 105,
   "metadata": {},
   "outputs": [
    {
     "data": {
      "text/plain": [
       "0.46"
      ]
     },
     "execution_count": 105,
     "metadata": {},
     "output_type": "execute_result"
    }
   ],
   "source": [
    "# Другой вариант решения. Могут быть СЕМЬ комбинаций выхода из строя - 1, 2, 3, 1 и 2, 2 и 3, 1 и 3, 1 и 2 и 3\n",
    "P1 = PA1 * (1 - PA2) * (1 - PA3)\n",
    "P2 = PA2 * (1 - PA1) * (1 - PA3)\n",
    "P3 = PA3 * (1 - PA2) * (1 - PA1)\n",
    "P4 = PA1 * PA2 * (1 - PA3)\n",
    "P5 = PA2 * PA3 * (1 - PA1)\n",
    "P6 = PA1 * PA3 * (1 - PA2)\n",
    "P7 = PA1 * PA2 * PA3\n",
    "P = P1 + P2 + P3 + P4 + P5 + P6 + P7\n",
    "P"
   ]
  },
  {
   "cell_type": "markdown",
   "metadata": {},
   "source": [
    "г). в первый месяц выйдет из строя от одной до двух деталей?"
   ]
  },
  {
   "cell_type": "code",
   "execution_count": 106,
   "metadata": {},
   "outputs": [
    {
     "data": {
      "text/plain": [
       "0.45499999999999996"
      ]
     },
     "execution_count": 106,
     "metadata": {},
     "output_type": "execute_result"
    }
   ],
   "source": [
    "# Находим вероятность, что ни одна деталь не выйдет из строя, и вычитаем вариант, когда все три детали вышли из строя\n",
    "PA = 1 - (1 - PA1) * (1 - PA2) * (1 - PA3)\n",
    "P = PA - PA1 * PA2 * PA3\n",
    "P"
   ]
  },
  {
   "cell_type": "code",
   "execution_count": 107,
   "metadata": {},
   "outputs": [
    {
     "data": {
      "text/plain": [
       "0.455"
      ]
     },
     "execution_count": 107,
     "metadata": {},
     "output_type": "execute_result"
    }
   ],
   "source": [
    "# Другое решение - Возможны 6 комбинаций 1, 2, 3, 1 и 2, 2 и 3, 1 и 3\n",
    "P1 = PA1 * (1 - PA2) * (1 - PA3)\n",
    "P2 = PA2 * (1 - PA1) * (1 - PA3)\n",
    "P3 = PA3 * (1 - PA2) * (1 - PA1)\n",
    "P4 = PA1 * PA2 * (1 - PA3)\n",
    "P5 = PA2 * PA3 * (1 - PA1)\n",
    "P6 = PA1 * PA3 * (1 - PA2)\n",
    "P = P1 + P2 + P3 + P4 + P5 + P6\n",
    "P"
   ]
  }
 ],
 "metadata": {
  "kernelspec": {
   "display_name": "Python 3",
   "language": "python",
   "name": "python3"
  },
  "language_info": {
   "codemirror_mode": {
    "name": "ipython",
    "version": 3
   },
   "file_extension": ".py",
   "mimetype": "text/x-python",
   "name": "python",
   "nbconvert_exporter": "python",
   "pygments_lexer": "ipython3",
   "version": "3.7.3"
  }
 },
 "nbformat": 4,
 "nbformat_minor": 2
}
